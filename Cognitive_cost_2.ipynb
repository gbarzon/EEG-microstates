{
 "cells": [
  {
   "cell_type": "code",
   "execution_count": 2,
   "metadata": {},
   "outputs": [],
   "source": [
    "import warnings\n",
    "warnings.filterwarnings(\"ignore\", category=DeprecationWarning)\n",
    "\n",
    "import numpy as np\n",
    "import matplotlib\n",
    "\n",
    "import matplotlib.pyplot as plt\n",
    "\n",
    "import mne\n",
    "import eeg_microstates3 as microstates\n",
    "\n",
    "matplotlib.use('Qt5Agg')\n",
    "%matplotlib qt\n",
    "#%matplotlib inline\n",
    "\n",
    "size=16"
   ]
  },
  {
   "cell_type": "code",
   "execution_count": 3,
   "metadata": {},
   "outputs": [
    {
     "name": "stderr",
     "output_type": "stream",
     "text": [
      "/Library/Frameworks/Python.framework/Versions/3.7/lib/python3.7/site-packages/mne/externals/pymatreader/utils.py:118: UserWarning: Complex objects (like classes) are not supported. They are imported on a best effort base but your mileage will vary.\n",
      "  warn('Complex objects (like classes) are not supported. '\n"
     ]
    },
    {
     "name": "stdout",
     "output_type": "stream",
     "text": [
      "Reading /Users/giacomobarzon/Desktop/EEG-microstates/eeg_cognitive_control/ss01_clean100.fdt\n",
      "Reading 0 ... 487999  =      0.000 ...  4879.990 secs...\n"
     ]
    }
   ],
   "source": [
    "folder = '/Users/giacomobarzon/Desktop/EEG-microstates/eeg_cognitive_control/'\n",
    "fname = folder + 'ss01_clean100.set'\n",
    "\n",
    "raw = mne.io.read_raw_eeglab(fname, preload=True)"
   ]
  },
  {
   "cell_type": "code",
   "execution_count": 4,
   "metadata": {},
   "outputs": [
    {
     "data": {
      "text/html": [
       "\n",
       "\n",
       "<table class=\"table table-hover table-striped table-sm table-responsive small\">\n",
       "    <tr>\n",
       "        <th>Measurement date</th>\n",
       "<td>Unknown</td>\n",
       "    </tr>\n",
       "    <tr>\n",
       "        <th>Experimenter</th>\n",
       "<td>Unknown</td>\n",
       "    </tr>\n",
       "        <th>Participant</th>\n",
       "<td>Unknown</td>\n",
       "    </tr>\n",
       "    <tr>\n",
       "        <th>Digitized points</th>\n",
       "        <td>64 points</td>\n",
       "    </tr>\n",
       "    <tr>\n",
       "        <th>Good channels</th>\n",
       "        <td>64 EEG</td>\n",
       "    </tr>\n",
       "    <tr>\n",
       "        <th>Bad channels</th>\n",
       "        <td>None</td>\n",
       "    </tr>\n",
       "    <tr>\n",
       "        <th>EOG channels</th>\n",
       "        <td>Not available</td>\n",
       "    </tr>\n",
       "    <tr>\n",
       "        <th>ECG channels</th>\n",
       "        <td>Not available</td>\n",
       "    <tr>\n",
       "        <th>Sampling frequency</th>\n",
       "        <td>100.00 Hz</td>\n",
       "    </tr>\n",
       "    <tr>\n",
       "        <th>Highpass</th>\n",
       "        <td>0.00 Hz</td>\n",
       "    </tr>\n",
       "    <tr>\n",
       "        <th>Lowpass</th>\n",
       "        <td>50.00 Hz</td>\n",
       "    </tr>\n",
       "\n",
       "    <tr>\n",
       "        <th>Filenames</th>\n",
       "        <td>ss01_clean100.fdt</td>\n",
       "    </tr>\n",
       "    <tr>\n",
       "        <th>Duration</th>\n",
       "        <td>01:21:19 (HH:MM:SS)</td>\n",
       "    </tr>\n",
       "</table>\n"
      ],
      "text/plain": [
       "<RawEEGLAB | ss01_clean100.fdt, 64 x 488000 (4880.0 s), ~238.4 MB, data loaded>"
      ]
     },
     "execution_count": 4,
     "metadata": {},
     "output_type": "execute_result"
    }
   ],
   "source": [
    "raw"
   ]
  },
  {
   "cell_type": "code",
   "execution_count": 5,
   "metadata": {},
   "outputs": [
    {
     "name": "stdout",
     "output_type": "stream",
     "text": [
      "Used Annotations descriptions: ['S 21', 'S 22', 'S 51', 'S 52', 'S 71', 'S 72', 'S121', 'S122', 'S151', 'S152', 'S171', 'S172', 'Task']\n",
      "total number of events: 801\n",
      "events id: {'S 21': 1, 'S 22': 2, 'S 51': 3, 'S 52': 4, 'S 71': 5, 'S 72': 6, 'S121': 7, 'S122': 8, 'S151': 9, 'S152': 10, 'S171': 11, 'S172': 12, 'Task': 13}\n",
      "event counts: [ 75 219  74  74 219  75   6  18   8   8  18   6   1]\n"
     ]
    }
   ],
   "source": [
    "# get events list\n",
    "events, events_id = mne.events_from_annotations(raw)\n",
    "_, counts = np.unique(events[:,2], return_counts=True)\n",
    "\n",
    "print('total number of events:', len(events))\n",
    "print('events id:', events_id)\n",
    "print('event counts:', counts)"
   ]
  },
  {
   "cell_type": "code",
   "execution_count": 6,
   "metadata": {},
   "outputs": [
    {
     "data": {
      "text/plain": [
       "(64, 488000)"
      ]
     },
     "execution_count": 6,
     "metadata": {},
     "output_type": "execute_result"
    }
   ],
   "source": [
    "# get data without bad frames\n",
    "channels = mne.pick_types(raw.info, meg=False, eeg=True)\n",
    "data, times = raw.get_data(picks=channels, reject_by_annotation='omit', return_times=True)\n",
    "dt = times[1]\n",
    "data.shape"
   ]
  },
  {
   "cell_type": "code",
   "execution_count": null,
   "metadata": {},
   "outputs": [
    {
     "name": "stdout",
     "output_type": "stream",
     "text": [
      "[+] Data format for clustering [GFP peaks, channels]: 134527 x 64\n",
      "\n",
      "[+] Clustering algorithm: AAHC.\n",
      "[+] Initial number of clusters: 134527\n",
      "\n",
      "\t\tAAHC > n: 134527 => 134526                                                    "
     ]
    }
   ],
   "source": [
    "maps, L, gfp_peaks, gev = microstates.clustering(data.T, raw.info, mode=\"aahc\", n_clusters=4, doplot=False, interpol=False)"
   ]
  },
  {
   "cell_type": "code",
   "execution_count": 13,
   "metadata": {},
   "outputs": [
    {
     "data": {
      "text/plain": [
       "array([0.25039139, 0.25641598, 0.22938525, 0.26380738])"
      ]
     },
     "execution_count": 13,
     "metadata": {},
     "output_type": "execute_result"
    }
   ],
   "source": [
    "microstates.p_empirical(L, n_clusters=4)"
   ]
  },
  {
   "cell_type": "code",
   "execution_count": 15,
   "metadata": {},
   "outputs": [
    {
     "name": "stdout",
     "output_type": "stream",
     "text": [
      "|0.5380.1460.1700.146|\n",
      "|0.1340.5420.1330.192|\n",
      "|0.1850.1510.5140.150|\n",
      "|0.1470.1750.1330.545|\n"
     ]
    }
   ],
   "source": [
    "microstates.print_matrix(microstates.T_empirical(L, n_clusters=4))"
   ]
  },
  {
   "cell_type": "code",
   "execution_count": null,
   "metadata": {},
   "outputs": [],
   "source": [
    "maps, L, gfp_peaks, gev = microstates.clustering(data.T, raw.info, mode=\"kmeans\", n_clusters=4, doplot=False, interpol=False)"
   ]
  }
 ],
 "metadata": {
  "kernelspec": {
   "display_name": "Python 3",
   "language": "python",
   "name": "python3"
  },
  "language_info": {
   "codemirror_mode": {
    "name": "ipython",
    "version": 3
   },
   "file_extension": ".py",
   "mimetype": "text/x-python",
   "name": "python",
   "nbconvert_exporter": "python",
   "pygments_lexer": "ipython3",
   "version": "3.7.1"
  }
 },
 "nbformat": 4,
 "nbformat_minor": 4
}
